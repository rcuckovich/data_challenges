{
 "cells": [
  {
   "cell_type": "code",
   "execution_count": 70,
   "id": "1254197f",
   "metadata": {},
   "outputs": [
    {
     "name": "stdout",
     "output_type": "stream",
     "text": [
      "Overwriting test_Cuckovich_2_CAC.py\n"
     ]
    }
   ],
   "source": [
    "%%file test_Cuckovich_2_CAC.py\n",
    "\n",
    "import pytest\n",
    "from Cuckovich_2_CAC import strawman_org_emissions\n",
    "import pandas as pd\n",
    "\n",
    "# columns for formula all have numeric, non-zero values\n",
    "def test_clean_data():\n",
    "    clean_data = pd.read_json(r'C:\\Users\\rcuck\\YvesBlue\\cac_clean_data.json')\n",
    "    df_clean = strawman_org_emissions(clean_data)\n",
    "    \n",
    "    assert int(df_clean.iloc[0]['C02 Adjusted Total']) == int(81902.988458)\n",
    "    \n",
    "# columns for formula have one row with text values\n",
    "def test_non_numeric_data():\n",
    "    non_numeric_data = pd.read_json(r'C:\\Users\\rcuck\\YvesBlue\\cac_non_numeric_data.json')\n",
    "    df_non_numeric = strawman_org_emissions(non_numeric_data)\n",
    "    \n",
    "    assert int(df_non_numeric.iloc[0]['C02 Adjusted Total']) == int(81902.988458)\n",
    "    \n",
    "# columns for formula have one row with values of zero\n",
    "def test_zero_data():\n",
    "    zero_data = pd.read_json(r'C:\\Users\\rcuck\\YvesBlue\\cac_zero_data.json')\n",
    "    df_zero = strawman_org_emissions(zero_data)\n",
    "    \n",
    "    assert int(df_zero.iloc[0]['C02 Adjusted Total']) == int(81902.988458)\n",
    "    \n",
    "\n",
    "\n"
   ]
  },
  {
   "cell_type": "code",
   "execution_count": 69,
   "id": "0fe5af50",
   "metadata": {},
   "outputs": [
    {
     "name": "stdout",
     "output_type": "stream",
     "text": [
      "============================= test session starts =============================\n",
      "platform win32 -- Python 3.9.12, pytest-7.2.2, pluggy-1.0.0\n",
      "rootdir: C:\\Users\\rcuck\\YvesBlue\n",
      "plugins: anyio-3.5.0\n",
      "collected 3 items\n",
      "\n",
      "test_Cuckovich_2_CAC.py ...                                              [100%]\n",
      "\n",
      "============================== 3 passed in 0.41s ==============================\n"
     ]
    }
   ],
   "source": [
    "!pytest"
   ]
  },
  {
   "cell_type": "code",
   "execution_count": null,
   "id": "f65d0ef1",
   "metadata": {},
   "outputs": [],
   "source": []
  }
 ],
 "metadata": {
  "kernelspec": {
   "display_name": "Python 3 (ipykernel)",
   "language": "python",
   "name": "python3"
  },
  "language_info": {
   "codemirror_mode": {
    "name": "ipython",
    "version": 3
   },
   "file_extension": ".py",
   "mimetype": "text/x-python",
   "name": "python",
   "nbconvert_exporter": "python",
   "pygments_lexer": "ipython3",
   "version": "3.9.12"
  }
 },
 "nbformat": 4,
 "nbformat_minor": 5
}
